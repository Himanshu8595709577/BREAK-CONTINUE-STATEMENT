{
 "cells": [
  {
   "cell_type": "code",
   "execution_count": 8,
   "id": "1ea3fc27-2863-444d-b854-7440f9e70ee6",
   "metadata": {},
   "outputs": [
    {
     "name": "stdout",
     "output_type": "stream",
     "text": [
      "1\n",
      "2\n",
      "3\n",
      "4\n",
      "final execution\n"
     ]
    }
   ],
   "source": [
    "# Q 1\n",
    "\n",
    "n = 11\n",
    "i = 1\n",
    "while i<n:\n",
    "    print (i)\n",
    "    i = i + 1\n",
    "    if i == 5:\n",
    "        break\n",
    "print (\"final execution\")"
   ]
  },
  {
   "cell_type": "code",
   "execution_count": 29,
   "id": "1227898d-3d38-4ee1-91bc-07ca6d968e38",
   "metadata": {},
   "outputs": [
    {
     "name": "stdout",
     "output_type": "stream",
     "text": [
      "excel\n",
      "sql\n",
      "python\n",
      "ml\n",
      "ai\n",
      "ml not found !\n"
     ]
    }
   ],
   "source": [
    "# Q2\n",
    "\n",
    "d = [\"excel\", \"sql\", \"python\", \"ml\", \"ai\"]\n",
    "for i in d:\n",
    "    print (i)\n",
    "    if i == \"ml\":\n",
    "        break\n",
    "else :\n",
    "    print (\"ml not found !\")\n"
   ]
  },
  {
   "cell_type": "code",
   "execution_count": 49,
   "id": "25459802-399f-4b1d-b9ea-6235d1b59d9a",
   "metadata": {},
   "outputs": [
    {
     "name": "stdout",
     "output_type": "stream",
     "text": [
      "2\n",
      "4\n",
      "6\n",
      "8\n",
      "10\n"
     ]
    }
   ],
   "source": [
    "# Q3\n",
    "\n",
    "for even_no in range (2,11,2):\n",
    "    print (even_no)"
   ]
  },
  {
   "cell_type": "code",
   "execution_count": 56,
   "id": "2590dd48-306b-45c4-b2e2-7184408697a0",
   "metadata": {},
   "outputs": [
    {
     "name": "stdout",
     "output_type": "stream",
     "text": [
      "0\n",
      "1\n",
      "2\n",
      "3\n",
      "4\n",
      "5\n",
      "6\n",
      "7\n",
      "8\n",
      "9\n"
     ]
    }
   ],
   "source": [
    "# Q4\n",
    "\n",
    "for i in range (10):\n",
    "    print (i)"
   ]
  },
  {
   "cell_type": "code",
   "execution_count": 1,
   "id": "4b033b7a-7182-4147-83c9-837584c20db8",
   "metadata": {},
   "outputs": [
    {
     "name": "stdout",
     "output_type": "stream",
     "text": [
      "Multiplication table for 1:\n",
      "1 x 1 = 1\n",
      "1 x 2 = 2\n",
      "1 x 3 = 3\n",
      "1 x 4 = 4\n",
      "1 x 5 = 5\n",
      "1 x 6 = 6\n",
      "1 x 7 = 7\n",
      "1 x 8 = 8\n",
      "1 x 9 = 9\n",
      "1 x 10 = 10\n",
      "\n",
      "Multiplication table for 2:\n",
      "2 x 1 = 2\n",
      "2 x 2 = 4\n",
      "2 x 3 = 6\n",
      "2 x 4 = 8\n",
      "2 x 5 = 10\n",
      "2 x 6 = 12\n",
      "2 x 7 = 14\n",
      "2 x 8 = 16\n",
      "2 x 9 = 18\n",
      "2 x 10 = 20\n",
      "\n",
      "Multiplication table for 3:\n",
      "3 x 1 = 3\n",
      "3 x 2 = 6\n",
      "3 x 3 = 9\n",
      "3 x 4 = 12\n",
      "3 x 5 = 15\n",
      "3 x 6 = 18\n",
      "3 x 7 = 21\n",
      "3 x 8 = 24\n",
      "3 x 9 = 27\n",
      "3 x 10 = 30\n",
      "\n",
      "Multiplication table for 4:\n",
      "4 x 1 = 4\n",
      "4 x 2 = 8\n",
      "4 x 3 = 12\n",
      "4 x 4 = 16\n",
      "4 x 5 = 20\n",
      "4 x 6 = 24\n",
      "4 x 7 = 28\n",
      "4 x 8 = 32\n",
      "4 x 9 = 36\n",
      "4 x 10 = 40\n",
      "\n",
      "Multiplication table for 5:\n",
      "5 x 1 = 5\n",
      "5 x 2 = 10\n",
      "5 x 3 = 15\n",
      "5 x 4 = 20\n",
      "5 x 5 = 25\n",
      "5 x 6 = 30\n",
      "5 x 7 = 35\n",
      "5 x 8 = 40\n",
      "5 x 9 = 45\n",
      "5 x 10 = 50\n",
      "\n"
     ]
    }
   ],
   "source": [
    "def print_multiplication_tables():\n",
    "    for i in range(1, 6):  # Loop through numbers 1 to 5\n",
    "        print(f\"Multiplication table for {i}:\")\n",
    "        for j in range(1, 11):  # Multiples from 1 to 10\n",
    "            print(f\"{i} x {j} = {i * j}\")\n",
    "        print()  # New line after each table\n",
    "\n",
    "# Call the function to print the table\n",
    "print_multiplication_tables()"
   ]
  },
  {
   "cell_type": "code",
   "execution_count": 2,
   "id": "14d013c7-5d3c-4ee5-8bdc-f42b0569cde4",
   "metadata": {},
   "outputs": [
    {
     "name": "stdout",
     "output_type": "stream",
     "text": [
      "1\n",
      "3\n",
      "5\n",
      "7\n",
      "9\n",
      "11\n",
      "13\n",
      "15\n",
      "17\n",
      "19\n"
     ]
    }
   ],
   "source": [
    "def print_odd_numbers(max_number):\n",
    "    number = 1  # Start with the first number\n",
    "\n",
    "    while number <= max_number:\n",
    "        if number % 2 == 0:\n",
    "            number += 1\n",
    "            continue  # Skip even numbers\n",
    "        print(number)\n",
    "        number += 1  # Increment to move to the next number\n",
    "\n",
    "# Call the function to print odd numbers up to a specified limit\n",
    "max_number = 20  # You can set this to any upper limit you prefer\n",
    "print_odd_numbers(max_number)\n"
   ]
  },
  {
   "cell_type": "code",
   "execution_count": null,
   "id": "6ddcb62d-e6ce-4fbb-b9db-6e1cfb4b51a3",
   "metadata": {},
   "outputs": [],
   "source": []
  }
 ],
 "metadata": {
  "kernelspec": {
   "display_name": "Python 3 (ipykernel)",
   "language": "python",
   "name": "python3"
  },
  "language_info": {
   "codemirror_mode": {
    "name": "ipython",
    "version": 3
   },
   "file_extension": ".py",
   "mimetype": "text/x-python",
   "name": "python",
   "nbconvert_exporter": "python",
   "pygments_lexer": "ipython3",
   "version": "3.10.8"
  }
 },
 "nbformat": 4,
 "nbformat_minor": 5
}
